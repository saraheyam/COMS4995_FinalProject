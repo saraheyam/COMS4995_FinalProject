{
 "cells": [
  {
   "cell_type": "code",
   "execution_count": 0,
   "metadata": {
    "colab": {},
    "colab_type": "code",
    "id": "kpeUqSLYo1am"
   },
   "outputs": [],
   "source": [
    "import numpy\n",
    "import torch\n",
    "import scipy \n",
    "import scipy.sparse as sp\n",
    "import logging\n",
    "from six.moves import xrange\n",
    "from collections import OrderedDict\n",
    "import sys\n",
    "import pdb\n",
    "from sklearn import metrics\n",
    "import torch.nn.functional as F\n",
    "from torch.autograd import Variable\n",
    "def compute_metrics(predictions, targets):\n",
    "\n",
    "    pred=predictions.numpy()\n",
    "    targets=targets.numpy()\n",
    "\n",
    "    R2,p=scipy.stats.pearsonr(numpy.squeeze(targets),numpy.squeeze(pred))\n",
    "    MSE=metrics.mean_squared_error(targets, pred)\n",
    "    return MSE, R2\n",
    "\n",
    "\n"
   ]
  }
 ],
 "metadata": {
  "colab": {
   "name": "evaluate_v1.ipynb",
   "provenance": []
  },
  "kernelspec": {
   "display_name": "Python 3",
   "language": "python",
   "name": "python3"
  },
  "language_info": {
   "codemirror_mode": {
    "name": "ipython",
    "version": 3
   },
   "file_extension": ".py",
   "mimetype": "text/x-python",
   "name": "python",
   "nbconvert_exporter": "python",
   "pygments_lexer": "ipython3",
   "version": "3.6.7"
  }
 },
 "nbformat": 4,
 "nbformat_minor": 1
}
